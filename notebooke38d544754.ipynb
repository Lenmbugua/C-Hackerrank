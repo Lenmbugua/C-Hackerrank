{
 "cells": [
  {
   "cell_type": "markdown",
   "id": "140b124a",
   "metadata": {
    "papermill": {
     "duration": 0.004269,
     "end_time": "2025-05-23T08:41:05.060579",
     "exception": false,
     "start_time": "2025-05-23T08:41:05.056310",
     "status": "completed"
    },
    "tags": []
   },
   "source": [
    "**This notebook is an exercise in the [Pandas](https://www.kaggle.com/learn/pandas) course.  You can reference the tutorial at [this link](https://www.kaggle.com/residentmario/creating-reading-and-writing).**\n",
    "\n",
    "---\n"
   ]
  },
  {
   "cell_type": "markdown",
   "id": "c32c07a4",
   "metadata": {
    "papermill": {
     "duration": 0.003369,
     "end_time": "2025-05-23T08:41:05.067914",
     "exception": false,
     "start_time": "2025-05-23T08:41:05.064545",
     "status": "completed"
    },
    "tags": []
   },
   "source": [
    "# Introduction\n",
    "\n",
    "The first step in most data analytics projects is reading the data file. In this exercise, you'll create Series and DataFrame objects, both by hand and by reading data files.\n",
    "\n",
    "Run the code cell below to load libraries you will need (including code to check your answers)."
   ]
  },
  {
   "cell_type": "code",
   "execution_count": 1,
   "id": "1a1b1261",
   "metadata": {
    "execution": {
     "iopub.execute_input": "2025-05-23T08:41:05.076388Z",
     "iopub.status.busy": "2025-05-23T08:41:05.076056Z",
     "iopub.status.idle": "2025-05-23T08:41:08.511803Z",
     "shell.execute_reply": "2025-05-23T08:41:08.510890Z"
    },
    "papermill": {
     "duration": 3.44177,
     "end_time": "2025-05-23T08:41:08.513382",
     "exception": false,
     "start_time": "2025-05-23T08:41:05.071612",
     "status": "completed"
    },
    "tags": []
   },
   "outputs": [
    {
     "name": "stdout",
     "output_type": "stream",
     "text": [
      "Setup complete.\n"
     ]
    }
   ],
   "source": [
    "import pandas as pd\n",
    "pd.set_option('display.max_rows', 5)\n",
    "from learntools.core import binder; binder.bind(globals())\n",
    "from learntools.pandas.creating_reading_and_writing import *\n",
    "print(\"Setup complete.\")"
   ]
  },
  {
   "cell_type": "markdown",
   "id": "4e7cf514",
   "metadata": {
    "papermill": {
     "duration": 0.00344,
     "end_time": "2025-05-23T08:41:08.520582",
     "exception": false,
     "start_time": "2025-05-23T08:41:08.517142",
     "status": "completed"
    },
    "tags": []
   },
   "source": [
    "# Exercises"
   ]
  },
  {
   "cell_type": "markdown",
   "id": "7ad33fb1",
   "metadata": {
    "papermill": {
     "duration": 0.003226,
     "end_time": "2025-05-23T08:41:08.527620",
     "exception": false,
     "start_time": "2025-05-23T08:41:08.524394",
     "status": "completed"
    },
    "tags": []
   },
   "source": [
    "## 1.\n",
    "\n",
    "In the cell below, create a DataFrame `fruits` that looks like this:\n",
    "\n",
    "![](https://storage.googleapis.com/kaggle-media/learn/images/Ax3pp2A.png)"
   ]
  },
  {
   "cell_type": "code",
   "execution_count": 2,
   "id": "51eef174",
   "metadata": {
    "execution": {
     "iopub.execute_input": "2025-05-23T08:41:08.535961Z",
     "iopub.status.busy": "2025-05-23T08:41:08.535548Z",
     "iopub.status.idle": "2025-05-23T08:41:08.555682Z",
     "shell.execute_reply": "2025-05-23T08:41:08.554820Z"
    },
    "papermill": {
     "duration": 0.025978,
     "end_time": "2025-05-23T08:41:08.557164",
     "exception": false,
     "start_time": "2025-05-23T08:41:08.531186",
     "status": "completed"
    },
    "tags": []
   },
   "outputs": [
    {
     "data": {
      "text/html": [
       "<div>\n",
       "<style scoped>\n",
       "    .dataframe tbody tr th:only-of-type {\n",
       "        vertical-align: middle;\n",
       "    }\n",
       "\n",
       "    .dataframe tbody tr th {\n",
       "        vertical-align: top;\n",
       "    }\n",
       "\n",
       "    .dataframe thead th {\n",
       "        text-align: right;\n",
       "    }\n",
       "</style>\n",
       "<table border=\"1\" class=\"dataframe\">\n",
       "  <thead>\n",
       "    <tr style=\"text-align: right;\">\n",
       "      <th></th>\n",
       "      <th>Apples</th>\n",
       "      <th>Bananas</th>\n",
       "    </tr>\n",
       "  </thead>\n",
       "  <tbody>\n",
       "    <tr>\n",
       "      <th>0</th>\n",
       "      <td>30</td>\n",
       "      <td>21</td>\n",
       "    </tr>\n",
       "  </tbody>\n",
       "</table>\n",
       "</div>"
      ],
      "text/plain": [
       "   Apples  Bananas\n",
       "0      30       21"
      ]
     },
     "execution_count": 2,
     "metadata": {},
     "output_type": "execute_result"
    }
   ],
   "source": [
    "# Your code goes here. Create a dataframe matching the above diagram and assign it to the variable fruits.\n",
    "fruits = pd.DataFrame({'Apples':[30],'Bananas':[21]})\n",
    "\n",
    "# Check your answer\n",
    "fruits"
   ]
  },
  {
   "cell_type": "code",
   "execution_count": null,
   "id": "a13aee1e",
   "metadata": {
    "papermill": {
     "duration": 0.003628,
     "end_time": "2025-05-23T08:41:08.564801",
     "exception": false,
     "start_time": "2025-05-23T08:41:08.561173",
     "status": "completed"
    },
    "tags": []
   },
   "outputs": [],
   "source": []
  },
  {
   "cell_type": "code",
   "execution_count": 3,
   "id": "edf202cd",
   "metadata": {
    "execution": {
     "iopub.execute_input": "2025-05-23T08:41:08.573731Z",
     "iopub.status.busy": "2025-05-23T08:41:08.572979Z",
     "iopub.status.idle": "2025-05-23T08:41:08.576665Z",
     "shell.execute_reply": "2025-05-23T08:41:08.575958Z"
    },
    "papermill": {
     "duration": 0.009625,
     "end_time": "2025-05-23T08:41:08.578118",
     "exception": false,
     "start_time": "2025-05-23T08:41:08.568493",
     "status": "completed"
    },
    "tags": []
   },
   "outputs": [],
   "source": [
    "#q1.hint()\n",
    "#q1.solution()"
   ]
  },
  {
   "cell_type": "markdown",
   "id": "fe0c07aa",
   "metadata": {
    "papermill": {
     "duration": 0.004006,
     "end_time": "2025-05-23T08:41:08.586056",
     "exception": false,
     "start_time": "2025-05-23T08:41:08.582050",
     "status": "completed"
    },
    "tags": []
   },
   "source": [
    "## 2.\n",
    "\n",
    "Create a dataframe `fruit_sales` that matches the diagram below:\n",
    "\n",
    "![](https://storage.googleapis.com/kaggle-media/learn/images/CHPn7ZF.png)"
   ]
  },
  {
   "cell_type": "code",
   "execution_count": 4,
   "id": "21011e5a",
   "metadata": {
    "execution": {
     "iopub.execute_input": "2025-05-23T08:41:08.594686Z",
     "iopub.status.busy": "2025-05-23T08:41:08.594366Z",
     "iopub.status.idle": "2025-05-23T08:41:08.603592Z",
     "shell.execute_reply": "2025-05-23T08:41:08.602648Z"
    },
    "papermill": {
     "duration": 0.015324,
     "end_time": "2025-05-23T08:41:08.605011",
     "exception": false,
     "start_time": "2025-05-23T08:41:08.589687",
     "status": "completed"
    },
    "tags": []
   },
   "outputs": [
    {
     "data": {
      "text/html": [
       "<div>\n",
       "<style scoped>\n",
       "    .dataframe tbody tr th:only-of-type {\n",
       "        vertical-align: middle;\n",
       "    }\n",
       "\n",
       "    .dataframe tbody tr th {\n",
       "        vertical-align: top;\n",
       "    }\n",
       "\n",
       "    .dataframe thead th {\n",
       "        text-align: right;\n",
       "    }\n",
       "</style>\n",
       "<table border=\"1\" class=\"dataframe\">\n",
       "  <thead>\n",
       "    <tr style=\"text-align: right;\">\n",
       "      <th></th>\n",
       "      <th>Apples</th>\n",
       "      <th>Bananas</th>\n",
       "    </tr>\n",
       "  </thead>\n",
       "  <tbody>\n",
       "    <tr>\n",
       "      <th>2017 Sales</th>\n",
       "      <td>35</td>\n",
       "      <td>21</td>\n",
       "    </tr>\n",
       "    <tr>\n",
       "      <th>2018 Sales</th>\n",
       "      <td>41</td>\n",
       "      <td>34</td>\n",
       "    </tr>\n",
       "  </tbody>\n",
       "</table>\n",
       "</div>"
      ],
      "text/plain": [
       "            Apples  Bananas\n",
       "2017 Sales      35       21\n",
       "2018 Sales      41       34"
      ]
     },
     "execution_count": 4,
     "metadata": {},
     "output_type": "execute_result"
    }
   ],
   "source": [
    "import pandas as pd\n",
    "# Your code goes here. Create a dataframe matching the above diagram and assign it to the variable fruit_sales.\n",
    "df = pd.DataFrame({'Apples': [35,41],'Bananas':[21,34]}, index=['2017 Sales','2018 Sales'])\n",
    "#display df\n",
    "df"
   ]
  },
  {
   "cell_type": "code",
   "execution_count": 5,
   "id": "7d05ca9d",
   "metadata": {
    "execution": {
     "iopub.execute_input": "2025-05-23T08:41:08.614151Z",
     "iopub.status.busy": "2025-05-23T08:41:08.613862Z",
     "iopub.status.idle": "2025-05-23T08:41:08.618427Z",
     "shell.execute_reply": "2025-05-23T08:41:08.616911Z"
    },
    "papermill": {
     "duration": 0.011184,
     "end_time": "2025-05-23T08:41:08.620185",
     "exception": false,
     "start_time": "2025-05-23T08:41:08.609001",
     "status": "completed"
    },
    "tags": []
   },
   "outputs": [],
   "source": [
    "#q2.hint()\n",
    "#q2.solution()"
   ]
  },
  {
   "cell_type": "markdown",
   "id": "0f32b51a",
   "metadata": {
    "papermill": {
     "duration": 0.003794,
     "end_time": "2025-05-23T08:41:08.628184",
     "exception": false,
     "start_time": "2025-05-23T08:41:08.624390",
     "status": "completed"
    },
    "tags": []
   },
   "source": [
    "## 3.\n",
    "\n",
    "Create a variable `ingredients` with a Series that looks like:\n",
    "\n",
    "```\n",
    "Flour     4 cups\n",
    "Milk       1 cup\n",
    "Eggs     2 large\n",
    "Spam       1 can\n",
    "Name: Dinner, dtype: object\n",
    "```"
   ]
  },
  {
   "cell_type": "code",
   "execution_count": 6,
   "id": "b409ca51",
   "metadata": {
    "execution": {
     "iopub.execute_input": "2025-05-23T08:41:08.637181Z",
     "iopub.status.busy": "2025-05-23T08:41:08.636881Z",
     "iopub.status.idle": "2025-05-23T08:41:08.645437Z",
     "shell.execute_reply": "2025-05-23T08:41:08.644671Z"
    },
    "papermill": {
     "duration": 0.014712,
     "end_time": "2025-05-23T08:41:08.646765",
     "exception": false,
     "start_time": "2025-05-23T08:41:08.632053",
     "status": "completed"
    },
    "tags": []
   },
   "outputs": [
    {
     "data": {
      "application/javascript": [
       "parent.postMessage({\"jupyterEvent\": \"custom.exercise_interaction\", \"data\": {\"outcomeType\": 4, \"interactionType\": 1, \"questionType\": 2, \"questionId\": \"3_RecipeSeriesCreation\", \"learnToolsVersion\": \"0.3.5\", \"valueTowardsCompletion\": 0.0, \"failureMessage\": \"\", \"exceptionClass\": \"\", \"trace\": \"\"}}, \"*\")"
      ],
      "text/plain": [
       "<IPython.core.display.Javascript object>"
      ]
     },
     "metadata": {},
     "output_type": "display_data"
    },
    {
     "data": {
      "text/markdown": [
       "<span style=\"color:#ccaa33\">Check:</span> When you've updated the starter code, `check()` will tell you whether your code is correct. You need to update the code that creates variable `ingredients`"
      ],
      "text/plain": [
       "Check: When you've updated the starter code, `check()` will tell you whether your code is correct. You need to update the code that creates variable `ingredients`"
      ]
     },
     "metadata": {},
     "output_type": "display_data"
    },
    {
     "data": {
      "text/markdown": [],
      "text/plain": [
       "<learntools.core.constants.PlaceholderValue at 0x7f61bc9e77d0>"
      ]
     },
     "execution_count": 6,
     "metadata": {},
     "output_type": "execute_result"
    }
   ],
   "source": [
    "ingredients = ____\n",
    "\n",
    "# Check your answer\n",
    "q3.check()\n",
    "ingredients"
   ]
  },
  {
   "cell_type": "code",
   "execution_count": 7,
   "id": "6bfd119c",
   "metadata": {
    "execution": {
     "iopub.execute_input": "2025-05-23T08:41:08.657411Z",
     "iopub.status.busy": "2025-05-23T08:41:08.657133Z",
     "iopub.status.idle": "2025-05-23T08:41:08.661196Z",
     "shell.execute_reply": "2025-05-23T08:41:08.660054Z"
    },
    "papermill": {
     "duration": 0.011363,
     "end_time": "2025-05-23T08:41:08.662740",
     "exception": false,
     "start_time": "2025-05-23T08:41:08.651377",
     "status": "completed"
    },
    "tags": []
   },
   "outputs": [],
   "source": [
    "#q3.hint()\n",
    "#q3.solution()"
   ]
  },
  {
   "cell_type": "markdown",
   "id": "0a3b165a",
   "metadata": {
    "papermill": {
     "duration": 0.004006,
     "end_time": "2025-05-23T08:41:08.671228",
     "exception": false,
     "start_time": "2025-05-23T08:41:08.667222",
     "status": "completed"
    },
    "tags": []
   },
   "source": [
    "## 4.\n",
    "\n",
    "Read the following csv dataset of wine reviews into a DataFrame called `reviews`:\n",
    "\n",
    "![](https://storage.googleapis.com/kaggle-media/learn/images/74RCZtU.png)\n",
    "\n",
    "The filepath to the csv file is `../input/wine-reviews/winemag-data_first150k.csv`. The first few lines look like:\n",
    "\n",
    "```\n",
    ",country,description,designation,points,price,province,region_1,region_2,variety,winery\n",
    "0,US,\"This tremendous 100% varietal wine[...]\",Martha's Vineyard,96,235.0,California,Napa Valley,Napa,Cabernet Sauvignon,Heitz\n",
    "1,Spain,\"Ripe aromas of fig, blackberry and[...]\",Carodorum Selección Especial Reserva,96,110.0,Northern Spain,Toro,,Tinta de Toro,Bodega Carmen Rodríguez\n",
    "```"
   ]
  },
  {
   "cell_type": "code",
   "execution_count": 8,
   "id": "8c33880c",
   "metadata": {
    "execution": {
     "iopub.execute_input": "2025-05-23T08:41:08.681479Z",
     "iopub.status.busy": "2025-05-23T08:41:08.681177Z",
     "iopub.status.idle": "2025-05-23T08:41:08.689478Z",
     "shell.execute_reply": "2025-05-23T08:41:08.688637Z"
    },
    "papermill": {
     "duration": 0.014823,
     "end_time": "2025-05-23T08:41:08.690801",
     "exception": false,
     "start_time": "2025-05-23T08:41:08.675978",
     "status": "completed"
    },
    "tags": []
   },
   "outputs": [
    {
     "data": {
      "application/javascript": [
       "parent.postMessage({\"jupyterEvent\": \"custom.exercise_interaction\", \"data\": {\"outcomeType\": 4, \"interactionType\": 1, \"questionType\": 1, \"questionId\": \"4_ReadWineCsv\", \"learnToolsVersion\": \"0.3.5\", \"valueTowardsCompletion\": 0.0, \"failureMessage\": \"\", \"exceptionClass\": \"\", \"trace\": \"\"}}, \"*\")"
      ],
      "text/plain": [
       "<IPython.core.display.Javascript object>"
      ]
     },
     "metadata": {},
     "output_type": "display_data"
    },
    {
     "data": {
      "text/markdown": [
       "<span style=\"color:#ccaa33\">Check:</span> When you've updated the starter code, `check()` will tell you whether your code is correct. You need to update the code that creates variable `reviews`"
      ],
      "text/plain": [
       "Check: When you've updated the starter code, `check()` will tell you whether your code is correct. You need to update the code that creates variable `reviews`"
      ]
     },
     "metadata": {},
     "output_type": "display_data"
    },
    {
     "data": {
      "text/markdown": [],
      "text/plain": [
       "<learntools.core.constants.PlaceholderValue at 0x7f61bc9e77d0>"
      ]
     },
     "execution_count": 8,
     "metadata": {},
     "output_type": "execute_result"
    }
   ],
   "source": [
    "reviews = ____\n",
    "\n",
    "# Check your answer\n",
    "q4.check()\n",
    "reviews"
   ]
  },
  {
   "cell_type": "code",
   "execution_count": 9,
   "id": "a7ea3843",
   "metadata": {
    "execution": {
     "iopub.execute_input": "2025-05-23T08:41:08.701483Z",
     "iopub.status.busy": "2025-05-23T08:41:08.700772Z",
     "iopub.status.idle": "2025-05-23T08:41:08.704623Z",
     "shell.execute_reply": "2025-05-23T08:41:08.703849Z"
    },
    "papermill": {
     "duration": 0.010499,
     "end_time": "2025-05-23T08:41:08.706009",
     "exception": false,
     "start_time": "2025-05-23T08:41:08.695510",
     "status": "completed"
    },
    "tags": []
   },
   "outputs": [],
   "source": [
    "#q4.hint()\n",
    "#q4.solution()"
   ]
  },
  {
   "cell_type": "markdown",
   "id": "2821d805",
   "metadata": {
    "papermill": {
     "duration": 0.004288,
     "end_time": "2025-05-23T08:41:08.715027",
     "exception": false,
     "start_time": "2025-05-23T08:41:08.710739",
     "status": "completed"
    },
    "tags": []
   },
   "source": [
    "## 5.\n",
    "\n",
    "Run the cell below to create and display a DataFrame called `animals`:"
   ]
  },
  {
   "cell_type": "code",
   "execution_count": 10,
   "id": "f4c1941d",
   "metadata": {
    "execution": {
     "iopub.execute_input": "2025-05-23T08:41:08.725247Z",
     "iopub.status.busy": "2025-05-23T08:41:08.724968Z",
     "iopub.status.idle": "2025-05-23T08:41:08.733816Z",
     "shell.execute_reply": "2025-05-23T08:41:08.733115Z"
    },
    "papermill": {
     "duration": 0.01568,
     "end_time": "2025-05-23T08:41:08.735211",
     "exception": false,
     "start_time": "2025-05-23T08:41:08.719531",
     "status": "completed"
    },
    "tags": []
   },
   "outputs": [
    {
     "data": {
      "text/html": [
       "<div>\n",
       "<style scoped>\n",
       "    .dataframe tbody tr th:only-of-type {\n",
       "        vertical-align: middle;\n",
       "    }\n",
       "\n",
       "    .dataframe tbody tr th {\n",
       "        vertical-align: top;\n",
       "    }\n",
       "\n",
       "    .dataframe thead th {\n",
       "        text-align: right;\n",
       "    }\n",
       "</style>\n",
       "<table border=\"1\" class=\"dataframe\">\n",
       "  <thead>\n",
       "    <tr style=\"text-align: right;\">\n",
       "      <th></th>\n",
       "      <th>Cows</th>\n",
       "      <th>Goats</th>\n",
       "    </tr>\n",
       "  </thead>\n",
       "  <tbody>\n",
       "    <tr>\n",
       "      <th>Year 1</th>\n",
       "      <td>12</td>\n",
       "      <td>22</td>\n",
       "    </tr>\n",
       "    <tr>\n",
       "      <th>Year 2</th>\n",
       "      <td>20</td>\n",
       "      <td>19</td>\n",
       "    </tr>\n",
       "  </tbody>\n",
       "</table>\n",
       "</div>"
      ],
      "text/plain": [
       "        Cows  Goats\n",
       "Year 1    12     22\n",
       "Year 2    20     19"
      ]
     },
     "execution_count": 10,
     "metadata": {},
     "output_type": "execute_result"
    }
   ],
   "source": [
    "animals = pd.DataFrame({'Cows': [12, 20], 'Goats': [22, 19]}, index=['Year 1', 'Year 2'])\n",
    "animals"
   ]
  },
  {
   "cell_type": "markdown",
   "id": "858b6ec2",
   "metadata": {
    "papermill": {
     "duration": 0.004432,
     "end_time": "2025-05-23T08:41:08.744473",
     "exception": false,
     "start_time": "2025-05-23T08:41:08.740041",
     "status": "completed"
    },
    "tags": []
   },
   "source": [
    "In the cell below, write code to save this DataFrame to disk as a csv file with the name `cows_and_goats.csv`."
   ]
  },
  {
   "cell_type": "code",
   "execution_count": 11,
   "id": "06f36c29",
   "metadata": {
    "execution": {
     "iopub.execute_input": "2025-05-23T08:41:08.755052Z",
     "iopub.status.busy": "2025-05-23T08:41:08.754766Z",
     "iopub.status.idle": "2025-05-23T08:41:08.761507Z",
     "shell.execute_reply": "2025-05-23T08:41:08.760587Z"
    },
    "papermill": {
     "duration": 0.013747,
     "end_time": "2025-05-23T08:41:08.762942",
     "exception": false,
     "start_time": "2025-05-23T08:41:08.749195",
     "status": "completed"
    },
    "tags": []
   },
   "outputs": [
    {
     "data": {
      "application/javascript": [
       "parent.postMessage({\"jupyterEvent\": \"custom.exercise_interaction\", \"data\": {\"outcomeType\": 2, \"failureMessage\": \"Expected file to exist with name `cows_and_goats.csv`\", \"interactionType\": 1, \"questionType\": 2, \"questionId\": \"5_SaveAnimalsCsv\", \"learnToolsVersion\": \"0.3.5\", \"valueTowardsCompletion\": 0.0, \"exceptionClass\": \"\", \"trace\": \"\"}}, \"*\")"
      ],
      "text/plain": [
       "<IPython.core.display.Javascript object>"
      ]
     },
     "metadata": {},
     "output_type": "display_data"
    },
    {
     "data": {
      "text/markdown": [
       "<span style=\"color:#cc3333\">Incorrect:</span> Expected file to exist with name `cows_and_goats.csv`"
      ],
      "text/plain": [
       "Incorrect: Expected file to exist with name `cows_and_goats.csv`"
      ]
     },
     "metadata": {},
     "output_type": "display_data"
    }
   ],
   "source": [
    "# Your code goes here\n",
    "\n",
    "# Check your answer\n",
    "q5.check()"
   ]
  },
  {
   "cell_type": "code",
   "execution_count": 12,
   "id": "632f1de9",
   "metadata": {
    "execution": {
     "iopub.execute_input": "2025-05-23T08:41:08.774707Z",
     "iopub.status.busy": "2025-05-23T08:41:08.774375Z",
     "iopub.status.idle": "2025-05-23T08:41:08.778408Z",
     "shell.execute_reply": "2025-05-23T08:41:08.777490Z"
    },
    "papermill": {
     "duration": 0.01203,
     "end_time": "2025-05-23T08:41:08.780291",
     "exception": false,
     "start_time": "2025-05-23T08:41:08.768261",
     "status": "completed"
    },
    "tags": []
   },
   "outputs": [],
   "source": [
    "#q5.hint()\n",
    "#q5.solution()"
   ]
  },
  {
   "cell_type": "markdown",
   "id": "fc825828",
   "metadata": {
    "papermill": {
     "duration": 0.004605,
     "end_time": "2025-05-23T08:41:08.789942",
     "exception": false,
     "start_time": "2025-05-23T08:41:08.785337",
     "status": "completed"
    },
    "tags": []
   },
   "source": [
    "# Keep going\n",
    "\n",
    "Move on to learn about **[indexing, selecting and assigning](https://www.kaggle.com/residentmario/indexing-selecting-assigning)**."
   ]
  },
  {
   "cell_type": "markdown",
   "id": "0a3e8f33",
   "metadata": {
    "papermill": {
     "duration": 0.004594,
     "end_time": "2025-05-23T08:41:08.799490",
     "exception": false,
     "start_time": "2025-05-23T08:41:08.794896",
     "status": "completed"
    },
    "tags": []
   },
   "source": [
    "---\n",
    "\n",
    "\n",
    "\n",
    "\n",
    "*Have questions or comments? Visit the [course discussion forum](https://www.kaggle.com/learn/pandas/discussion) to chat with other learners.*"
   ]
  }
 ],
 "metadata": {
  "kaggle": {
   "accelerator": "none",
   "dataSources": [
    {
     "datasetId": 655,
     "sourceId": 1252,
     "sourceType": "datasetVersion"
    },
    {
     "datasetId": 2321,
     "sourceId": 3919,
     "sourceType": "datasetVersion"
    },
    {
     "datasetId": 2894,
     "sourceId": 4877,
     "sourceType": "datasetVersion"
    },
    {
     "datasetId": 3491,
     "sourceId": 5624,
     "sourceType": "datasetVersion"
    },
    {
     "datasetId": 1442,
     "sourceId": 8172,
     "sourceType": "datasetVersion"
    },
    {
     "datasetId": 9366,
     "sourceId": 13206,
     "sourceType": "datasetVersion"
    },
    {
     "datasetId": 179555,
     "sourceId": 403916,
     "sourceType": "datasetVersion"
    },
    {
     "datasetId": 4549,
     "sourceId": 466349,
     "sourceType": "datasetVersion"
    },
    {
     "datasetId": 2478,
     "sourceId": 1151655,
     "sourceType": "datasetVersion"
    },
    {
     "datasetId": 10128,
     "sourceId": 5438389,
     "sourceType": "datasetVersion"
    }
   ],
   "isGpuEnabled": false,
   "isInternetEnabled": false,
   "language": "python",
   "sourceType": "notebook"
  },
  "kernelspec": {
   "display_name": "Python 3",
   "language": "python",
   "name": "python3"
  },
  "language_info": {
   "codemirror_mode": {
    "name": "ipython",
    "version": 3
   },
   "file_extension": ".py",
   "mimetype": "text/x-python",
   "name": "python",
   "nbconvert_exporter": "python",
   "pygments_lexer": "ipython3",
   "version": "3.11.11"
  },
  "papermill": {
   "default_parameters": {},
   "duration": 8.91303,
   "end_time": "2025-05-23T08:41:09.324123",
   "environment_variables": {},
   "exception": null,
   "input_path": "__notebook__.ipynb",
   "output_path": "__notebook__.ipynb",
   "parameters": {},
   "start_time": "2025-05-23T08:41:00.411093",
   "version": "2.6.0"
  }
 },
 "nbformat": 4,
 "nbformat_minor": 5
}
